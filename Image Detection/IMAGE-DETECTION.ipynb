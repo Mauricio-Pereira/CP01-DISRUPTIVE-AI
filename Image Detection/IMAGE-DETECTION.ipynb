{
 "cells": [
  {
   "cell_type": "markdown",
   "metadata": {},
   "source": [
    "# **DETECÇÃO DE OBJETOS EM IMAGENS - DETECÇÃO E SEGMENTAÇÃO**\n",
    "## ***INTEGRANTES:*** ## \n",
    "*Maurício Vieira Pereira - RM553748*  \n",
    "*Yago Lucas Golçalves da Silva - RM553013*\n"
   ]
  },
  {
   "cell_type": "code",
   "metadata": {
    "jupyter": {
     "is_executing": true
    }
   },
   "source": [
    "# Instalando a biblioteca do YOLOv8\n",
    "!pip install ultralytics"
   ],
   "outputs": [],
   "execution_count": null
  },
  {
   "cell_type": "code",
   "metadata": {
    "jupyter": {
     "is_executing": true
    }
   },
   "source": [
    "# Importando o pacote ultralytics e demais bibliotecas\n",
    "import ultralytics\n",
    "import cv2\n",
    "import matplotlib.pyplot as plt\n",
    "import os\n",
    "from PIL import Image\n"
   ],
   "outputs": [],
   "execution_count": null
  },
  {
   "cell_type": "markdown",
   "metadata": {},
   "source": []
  },
  {
   "cell_type": "markdown",
   "metadata": {},
   "source": [
    "### **DETECÇÃO DE OBJETOS EM IMAGENS**\n",
    "#### **YOLOv8 - DETECÇÃO**\n",
    "Nesse modelo estamos utilizando o YOLOv8 para realizar a detecção de objetos em imagens. O modelo foi treinado com o dataset COCO e possui 80 classes de objetos.  \n",
    "A task de detecção é realizada através do comando abaixo, onde é passado o modelo, a confiança e a imagem de entrada.\n",
    "Vamos fazer a comparação entre o modelo YOLOv8n e YOLOv8m, utilizando os pesos pré-treinados para a detecção de objetos em imagens."
   ]
  },
  {
   "cell_type": "code",
   "metadata": {},
   "source": [
    "!yolo task=detect  mode=predict model=yolov8n-seg.pt conf=0.75 source='images\\cachorros.jpg' save=True "
   ],
   "outputs": [],
   "execution_count": null
  },
  {
   "cell_type": "code",
   "metadata": {},
   "source": [
    "resultado = cv2.imread('runs\\segment\\predict\\cachorros.jpg')\n",
    "plt.imshow(cv2.cvtColor(resultado, cv2.COLOR_BGR2RGB))"
   ],
   "outputs": [],
   "execution_count": null
  },
  {
   "metadata": {},
   "cell_type": "code",
   "outputs": [],
   "execution_count": null,
   "source": "!yolo task=detect  mode=predict model=yolov8m-seg.pt conf=0.75 source='images\\cachorros.jpg' save=True "
  },
  {
   "metadata": {},
   "cell_type": "code",
   "outputs": [],
   "execution_count": null,
   "source": [
    "resultado = cv2.imread('runs\\segment\\predict\\cachorros.jpg')\n",
    "plt.imshow(cv2.cvtColor(resultado, cv2.COLOR_BGR2RGB))"
   ]
  },
  {
   "cell_type": "code",
   "metadata": {},
   "source": [
    "!yolo task=segment mode=predict model=yolov8m-seg.pt conf=0.75 source='images\\cachorros.jpg' save=True"
   ],
   "outputs": [],
   "execution_count": null
  },
  {
   "cell_type": "code",
   "metadata": {},
   "source": [
    "resultado = cv2.imread('runs\\segment\\predict\\cachorros.jpg')\n",
    "plt.imshow(cv2.cvtColor(resultado, cv2.COLOR_BGR2RGB))"
   ],
   "outputs": [],
   "execution_count": null
  }
 ],
 "metadata": {
  "kernelspec": {
   "display_name": "Python 3",
   "language": "python",
   "name": "python3"
  },
  "language_info": {
   "codemirror_mode": {
    "name": "ipython",
    "version": 3
   },
   "file_extension": ".py",
   "mimetype": "text/x-python",
   "name": "python",
   "nbconvert_exporter": "python",
   "pygments_lexer": "ipython3",
   "version": "3.11.5"
  }
 },
 "nbformat": 4,
 "nbformat_minor": 2
}
